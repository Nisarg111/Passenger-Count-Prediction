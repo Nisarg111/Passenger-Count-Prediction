{
  "nbformat": 4,
  "nbformat_minor": 0,
  "metadata": {
    "colab": {
      "provenance": [],
      "authorship_tag": "ABX9TyPvNwlRVafJQgmWOyGG3BgP",
      "include_colab_link": true
    },
    "kernelspec": {
      "name": "python3",
      "display_name": "Python 3"
    },
    "language_info": {
      "name": "python"
    }
  },
  "cells": [
    {
      "cell_type": "markdown",
      "metadata": {
        "id": "view-in-github",
        "colab_type": "text"
      },
      "source": [
        "<a href=\"https://colab.research.google.com/github/Nisarg111/Pessenger-Count-Prediction/blob/main/PassengerCount_XGBOOSt.ipynb\" target=\"_parent\"><img src=\"https://colab.research.google.com/assets/colab-badge.svg\" alt=\"Open In Colab\"/></a>"
      ]
    },
    {
      "cell_type": "code",
      "execution_count": null,
      "metadata": {
        "id": "6GD9QjgcrUd1"
      },
      "outputs": [],
      "source": [
        "import numpy as np\n",
        "import pandas as pd\n",
        "import matplotlib.pyplot as plt\n",
        "from sklearn.metrics import mean_absolute_error, mean_squared_error, r2_score\n",
        "from sklearn.model_selection import train_test_split"
      ]
    },
    {
      "cell_type": "code",
      "source": [
        "df = pd.read_csv('')"
      ],
      "metadata": {
        "id": "7vHAnZDarYpg"
      },
      "execution_count": null,
      "outputs": []
    },
    {
      "cell_type": "code",
      "source": [
        "df.drop(['Sid','Did'],axis=1,inplace=True)\n",
        "df.drop('Station_Pair',axis=1,inplace=True)\n",
        "df['Date_Time'] = pd.to_datetime(df['Date_Time'], format=\"%d-%m-%Y %H:%M\")\n",
        "df.set_index('Date_Time',inplace=True)\n"
      ],
      "metadata": {
        "id": "IDuxFrXirbgr"
      },
      "execution_count": null,
      "outputs": []
    },
    {
      "cell_type": "code",
      "source": [
        "df.to_csv('Temp.csv')"
      ],
      "metadata": {
        "id": "C3PpBNFKuzO-"
      },
      "execution_count": null,
      "outputs": []
    },
    {
      "cell_type": "code",
      "source": [
        "features = df[['Is_Holiday', 'Holiday_Type', 'OneHourSlot', 'Month', 'Year', 'Weekday']]\n",
        "target = df['Passenger_Count']\n",
        "\n",
        "# Split the data into training and testing sets\n",
        "X_train, X_test, y_train, y_test = train_test_split(features, target, test_size=0.2, random_state=42)"
      ],
      "metadata": {
        "id": "1KXQjW8yrm7U"
      },
      "execution_count": null,
      "outputs": []
    },
    {
      "cell_type": "code",
      "source": [
        "from xgboost import XGBRegressor\n",
        "\n",
        "xgb_model = XGBRegressor(n_estimators=100, random_state=42)\n",
        "xgb_model.fit(X_train, y_train)\n",
        "y_pred_xgb = xgb_model.predict(X_test)\n"
      ],
      "metadata": {
        "id": "OrwRTmFFsA1A"
      },
      "execution_count": null,
      "outputs": []
    },
    {
      "cell_type": "code",
      "source": [
        "r2 = r2_score(y_test, y_pred_xgb)\n",
        "print(\"R2 score:\", r2)"
      ],
      "metadata": {
        "colab": {
          "base_uri": "https://localhost:8080/"
        },
        "id": "9DrxW5qFsZp9",
        "outputId": "559820bb-91e8-46d0-85d3-772d779d6482"
      },
      "execution_count": null,
      "outputs": [
        {
          "output_type": "stream",
          "name": "stdout",
          "text": [
            "R2 score: 0.7105357034863705\n"
          ]
        }
      ]
    },
    {
      "cell_type": "code",
      "source": [
        "flr_pred = np.floor(y_pred_xgb)\n",
        "\n",
        "for i in range(len(flr_pred)):\n",
        "  if(flr_pred[i] < 0):\n",
        "      flr_pred[i] = 0\n",
        "\n",
        "r2 = r2_score(y_test, flr_pred)\n",
        "print(\"R2 score:\", r2)\n"
      ],
      "metadata": {
        "colab": {
          "base_uri": "https://localhost:8080/"
        },
        "id": "mFyOIz27tDz4",
        "outputId": "ddd3ca34-1a80-42a1-bbb0-9567b79b2d42"
      },
      "execution_count": null,
      "outputs": [
        {
          "output_type": "stream",
          "name": "stdout",
          "text": [
            "R2 score: 0.6930858008583909\n"
          ]
        }
      ]
    }
  ]
}